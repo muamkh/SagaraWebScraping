{
 "cells": [
  {
   "cell_type": "code",
   "execution_count": 1,
   "metadata": {},
   "outputs": [],
   "source": [
    "#Inisiasi library\n",
    "import pandas as pd\n",
    "from selenium import webdriver\n",
    "from webdriver_manager.chrome import ChromeDriverManager\n",
    "from selenium.webdriver.common.by import By\n",
    "from time import sleep\n",
    "from bs4 import BeautifulSoup as bs\n",
    "from selenium.webdriver.common.action_chains import ActionChains"
   ]
  },
  {
   "cell_type": "code",
   "execution_count": 2,
   "metadata": {},
   "outputs": [
    {
     "name": "stderr",
     "output_type": "stream",
     "text": [
      "[WDM] - ====== WebDriver manager ======\n",
      "[WDM] - Current google-chrome version is 100.0.4896\n",
      "[WDM] - Get LATEST driver version for 100.0.4896\n",
      "[WDM] - Get LATEST driver version for 100.0.4896\n"
     ]
    },
    {
     "name": "stdout",
     "output_type": "stream",
     "text": [
      "\n",
      "\n"
     ]
    },
    {
     "name": "stderr",
     "output_type": "stream",
     "text": [
      "[WDM] - Trying to download new driver from https://chromedriver.storage.googleapis.com/100.0.4896.60/chromedriver_win32.zip\n",
      "[WDM] - Driver has been saved in cache [C:\\Users\\Muamkh\\.wdm\\drivers\\chromedriver\\win32\\100.0.4896.60]\n"
     ]
    }
   ],
   "source": [
    "#Menginstall driver browser untuk Selenium\n",
    "browser = webdriver.Chrome(ChromeDriverManager().install())\n",
    "browser.maximize_window()\n",
    "nama=''\n",
    "#Menggunakan Selenium untuk membuka website\n",
    "browser.get('https://santara.co.id/list-bisnis')\n",
    "while True:\n",
    "    try:\n",
    "        sleep(3)\n",
    "        container = browser.find_element_by_xpath('//*[@id=\"list-bisnis\"]/div[last()]')\n",
    "        if nama==container.text.split('\\n')[2]:\n",
    "            break\n",
    "        else:\n",
    "            nama = container.text.split('\\n')[2]\n",
    "        button = browser.find_element_by_css_selector('#button-read-more')\n",
    "        #list-pralisting > div:nth-child(167)\n",
    "        browser.execute_script(\"arguments[0].click();\", button)\n",
    "        SCROLL_PAUSE_TIME = 0.5\n",
    "\n",
    "        # Get scroll height\n",
    "        last_height = browser.execute_script(\"return document.body.scrollHeight\")\n",
    "        # Scroll down to bottom\n",
    "        browser.execute_script(\"window.scrollTo(0, document.body.scrollHeight);\")\n",
    "        # Wait to load page\n",
    "        sleep(SCROLL_PAUSE_TIME)\n",
    "        # Calculate new scroll height\n",
    "        new_height = browser.execute_script(\"return document.body.scrollHeight\")\n",
    "        last_height = new_height\n",
    "    except:\n",
    "        break\n",
    "# containers = browser.find_elements_by_xpath('//*[@id=\"list-bisnis\"]/div[*]')\n",
    "soup = bs(browser.page_source, 'lxml')\n",
    "browser.close()"
   ]
  },
  {
   "cell_type": "code",
   "execution_count": 13,
   "metadata": {
    "scrolled": true
   },
   "outputs": [],
   "source": [
    "kode = []\n",
    "nama = []\n",
    "tipe = []\n",
    "harga = []\n",
    "namakontak = []\n",
    "fb = []\n",
    "ig = []\n",
    "hp = []\n",
    "persen = []\n",
    "sisapersen = []\n",
    "sisalembar = []\n",
    "terjualpersen = []\n",
    "terjuallembar = []\n",
    "nominal = []\n",
    "sisanominal = []\n",
    "terjualnominal = []\n",
    "periodedividen = []\n",
    "kode = list(map(lambda x: x.text, soup.find_all(\"h1\", {\"class\": \"fs-16 merchant-txt-card bg-black fs-26 bold\"})))\n",
    "nama = list(map(lambda x: x.text.split('\\n')[1], soup.find_all(class_='col-12 row-company-hover')))\n",
    "tipe = list(map(lambda x: x.text.split('\\n')[2], soup.find_all(class_='col-12 row-company-hover')))\n",
    "harga = list(map(lambda x: x.text, soup.find_all(\"h4\", {\"class\": \"fs-13 bg-black ff-n\"})))\n",
    "namakontak = list(map(lambda x: x.text, soup.find_all(\"span\", {\"class\": \"black fs-10 ff-n bold\"})))\n",
    "fb = list(map(lambda x: x.text.split('\\n')[1], soup.find_all(\"div\", {\"class\": \"contact-media ff-n\"})))\n",
    "ig = list(map(lambda x: x.text.split('\\n')[2], soup.find_all(\"div\", {\"class\": \"contact-media ff-n\"})))\n",
    "hp = list(map(lambda x: x.text.split('\\n')[3], soup.find_all(\"div\", {\"class\": \"contact-media ff-n\"})))\n",
    "persen = list(map(lambda x: x.text.split('\\n'), soup.find_all(\"div\", {\"label-border-justify bg-white\"})))\n",
    "sisapersen = list(map(lambda x: x[1], persen[0::4]))\n",
    "sisalembar = list(map(lambda x: x[1], persen[1::4]))\n",
    "terjualpersen = list(map(lambda x: x[1], persen[2::4]))\n",
    "terjuallembar = list(map(lambda x: x[1], persen[3::4]))\n",
    "nominal = list(map(lambda x: x.text.split('\\n'), soup.find_all(\"div\", {\"bg-label-right\"})))\n",
    "sisanominal = list(map(lambda x: x[1].strip(), nominal[0::2]))\n",
    "terjualnominal = list(map(lambda x: x[1].strip(), nominal[1::2]))\n",
    "periodedividen = list(map(lambda x: x.text.split('\\n')[0], soup.find_all(\"h1\", {\"orange fs-14 font-800\"})))[1::2]"
   ]
  },
  {
   "cell_type": "code",
   "execution_count": 14,
   "metadata": {},
   "outputs": [
    {
     "data": {
      "text/plain": [
       "90"
      ]
     },
     "execution_count": 14,
     "metadata": {},
     "output_type": "execute_result"
    }
   ],
   "source": [
    "len(periodedividen)"
   ]
  },
  {
   "cell_type": "code",
   "execution_count": 15,
   "metadata": {},
   "outputs": [
    {
     "name": "stdout",
     "output_type": "stream",
     "text": [
      "done\n"
     ]
    }
   ],
   "source": [
    "data = {\n",
    "        \"KodePerusahaan\": kode,\n",
    "        \"NamaPerusahaan\": nama,\n",
    "        \"Kategori\": tipe,\n",
    "        \"DanaDibutuhkan\": harga,\n",
    "        \"NamaKontak\": namakontak,\n",
    "        \"Facebook\": fb,\n",
    "        \"Instagram\": ig,\n",
    "        \"NomorHP\": hp,\n",
    "        \"PersenSahamTersisa\": sisapersen,\n",
    "        \"LembarSahamTersisa\": sisalembar,\n",
    "        \"PersenSahamTerjual\": terjualpersen,\n",
    "        \"LembarSahamTerjual\": terjuallembar,\n",
    "        \"NominalSahamTersisa\": sisanominal,\n",
    "        \"NominalSahamTerjual\": terjualnominal,\n",
    "        \"PeriodeDividen\": periodedividen\n",
    "    }\n",
    "\n",
    "df = pd.DataFrame(data)\n",
    "df.drop_duplicates(subset=['KodePerusahaan'], inplace=True)\n",
    "df.to_csv('D:/Sagara/santaralistbisnis.csv', index=False)\n",
    "print('done')"
   ]
  },
  {
   "cell_type": "code",
   "execution_count": null,
   "metadata": {},
   "outputs": [],
   "source": [
    "df"
   ]
  }
 ],
 "metadata": {
  "kernelspec": {
   "display_name": "Python 3",
   "language": "python",
   "name": "python3"
  },
  "language_info": {
   "codemirror_mode": {
    "name": "ipython",
    "version": 3
   },
   "file_extension": ".py",
   "mimetype": "text/x-python",
   "name": "python",
   "nbconvert_exporter": "python",
   "pygments_lexer": "ipython3",
   "version": "3.7.6"
  }
 },
 "nbformat": 4,
 "nbformat_minor": 4
}
