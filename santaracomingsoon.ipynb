{
 "cells": [
  {
   "cell_type": "code",
   "execution_count": 1,
   "metadata": {},
   "outputs": [],
   "source": [
    "#Inisiasi library\n",
    "import pandas as pd\n",
    "from selenium import webdriver\n",
    "from webdriver_manager.chrome import ChromeDriverManager\n",
    "from selenium.webdriver.common.by import By\n",
    "from time import sleep\n",
    "from bs4 import BeautifulSoup as bs\n",
    "from selenium.webdriver.common.action_chains import ActionChains"
   ]
  },
  {
   "cell_type": "code",
   "execution_count": 2,
   "metadata": {},
   "outputs": [
    {
     "name": "stderr",
     "output_type": "stream",
     "text": [
      "[WDM] - ====== WebDriver manager ======\n",
      "[WDM] - Current google-chrome version is 99.0.4844\n",
      "[WDM] - Get LATEST driver version for 99.0.4844\n"
     ]
    },
    {
     "name": "stdout",
     "output_type": "stream",
     "text": [
      "\n",
      "\n"
     ]
    },
    {
     "name": "stderr",
     "output_type": "stream",
     "text": [
      "[WDM] - Driver [C:\\Users\\Muamkh\\.wdm\\drivers\\chromedriver\\win32\\99.0.4844.51\\chromedriver.exe] found in cache\n"
     ]
    }
   ],
   "source": [
    "#Menginstall driver browser untuk Selenium\n",
    "browser = webdriver.Chrome(ChromeDriverManager().install())\n",
    "browser.maximize_window()\n",
    "nama=''\n",
    "#Menggunakan Selenium untuk membuka website\n",
    "browser.get('https://santara.co.id/coming-soon')\n",
    "while True:\n",
    "    try:\n",
    "        sleep(3)\n",
    "        container = browser.find_element_by_xpath('//*[@id=\"list-pralisting\"]/div[last()]')\n",
    "        if nama==container.text.split('\\n')[2]:\n",
    "            break\n",
    "        else:\n",
    "            nama = container.text.split('\\n')[2]\n",
    "        button = browser.find_element_by_css_selector('#button-read-more')\n",
    "        #list-pralisting > div:nth-child(167)\n",
    "        browser.execute_script(\"arguments[0].click();\", button)\n",
    "        SCROLL_PAUSE_TIME = 0.5\n",
    "\n",
    "        # Get scroll height\n",
    "        last_height = browser.execute_script(\"return document.body.scrollHeight\")\n",
    "        # Scroll down to bottom\n",
    "        browser.execute_script(\"window.scrollTo(0, document.body.scrollHeight);\")\n",
    "        # Wait to load page\n",
    "        sleep(SCROLL_PAUSE_TIME)\n",
    "        # Calculate new scroll height\n",
    "        new_height = browser.execute_script(\"return document.body.scrollHeight\")\n",
    "        last_height = new_height\n",
    "    except:\n",
    "        break\n",
    "soup = bs(browser.page_source, 'lxml')\n",
    "browser.close()"
   ]
  },
  {
   "cell_type": "code",
   "execution_count": 8,
   "metadata": {
    "scrolled": true
   },
   "outputs": [],
   "source": [
    "nama = []\n",
    "tipe = []\n",
    "harga = []\n",
    "namakontak = []\n",
    "fb = []\n",
    "ig = []\n",
    "hp = []\n",
    "persen = []\n",
    "persendilepas = []\n",
    "perkiraandividen = []\n",
    "nominal = []\n",
    "omset2020 = []\n",
    "omset2021 = []\n",
    "perkiraanomset = []\n",
    "engagement = []\n",
    "like = []\n",
    "minat = []\n",
    "komen = []\n",
    "nama = list(map(lambda x: x.text, soup.find_all(\"h1\", {\"class\": \"fs-16 merchant-txt-card bg-black fs-26 bold\"})))\n",
    "tipe = list(map(lambda x: x.find(class_=\"fs-12 g-bawah ff-n\").text, soup.find_all(class_='col-12 row-company-hover')))\n",
    "harga = list(map(lambda x: x.text, soup.find_all(\"h4\", {\"class\": \"fs-13 bg-black ff-n\"})))\n",
    "namakontak = list(map(lambda x: x.text, soup.find_all(\"span\", {\"class\": \"black fs-10 ff-n bold\"})))\n",
    "fb = list(map(lambda x: x.text.split('\\n')[1], soup.find_all(\"div\", {\"class\": \"contact-media ff-n\"})))\n",
    "ig = list(map(lambda x: x.text.split('\\n')[2], soup.find_all(\"div\", {\"class\": \"contact-media ff-n\"})))\n",
    "hp = list(map(lambda x: x.text.split('\\n')[3], soup.find_all(\"div\", {\"class\": \"contact-media ff-n\"})))\n",
    "persen = list(map(lambda x: x.find(\"span\", {\"black fs-11 font-800\"}).text, soup.find_all(\"div\", {\"label-border-justify bg-white\"})))\n",
    "persendilepas = persen[0::2]\n",
    "perkiraandividen = persen[1::2]\n",
    "nominal = list(map(lambda x: x.text.split('\\n'), soup.find_all(\"div\", {\"bg-label-right\"})))\n",
    "omset2020 = list(map(lambda x: x[1].strip(), nominal[0::4]))\n",
    "omset2021 = list(map(lambda x: x[1].strip(), nominal[1::4]))\n",
    "perkiraanomset = list(map(lambda x: x[1].strip(), nominal[2::4]))\n",
    "engagement = list(map(lambda x: x.text.split('\\n'), soup.find_all(\"div\", {\"col-3 text-center\"})))\n",
    "like = list(map(lambda x: x[2], engagement[0::4]))\n",
    "minat = list(map(lambda x: x[2], engagement[1::4]))\n",
    "komen = list(map(lambda x: x[2], engagement[2::4]))"
   ]
  },
  {
   "cell_type": "code",
   "execution_count": 9,
   "metadata": {},
   "outputs": [
    {
     "name": "stdout",
     "output_type": "stream",
     "text": [
      "done\n"
     ]
    }
   ],
   "source": [
    "data = {\n",
    "        \"NamaPerusahaan\": nama,\n",
    "        \"Kategori\": tipe,\n",
    "        \"DanaDibutuhkan\": harga,\n",
    "        \"NamaKontak\": namakontak,\n",
    "        \"Facebook\": fb,\n",
    "        \"Instagram\": ig,\n",
    "        \"NomorHP\": hp,\n",
    "        \"PersenSahamDilepas\": persendilepas,\n",
    "        \"PerkiraanDividenTahunan\": perkiraandividen,\n",
    "        \"Omzet2020\": omset2020,\n",
    "        \"Omzet2021\": omset2021,\n",
    "        \"PerkiraanOmzet\": perkiraanomset,\n",
    "        \"Likes\": like,\n",
    "        \"Minat\": minat,\n",
    "        \"Komentar\": komen\n",
    "    }\n",
    "\n",
    "df = pd.DataFrame(data)\n",
    "df.drop_duplicates(subset=['NamaPerusahaan'], inplace=True)\n",
    "df.to_csv('D:/Sagara/santaracomingsoon.csv', index=False)\n",
    "print('done')"
   ]
  },
  {
   "cell_type": "code",
   "execution_count": null,
   "metadata": {},
   "outputs": [],
   "source": [
    "df"
   ]
  }
 ],
 "metadata": {
  "kernelspec": {
   "display_name": "Python 3",
   "language": "python",
   "name": "python3"
  },
  "language_info": {
   "codemirror_mode": {
    "name": "ipython",
    "version": 3
   },
   "file_extension": ".py",
   "mimetype": "text/x-python",
   "name": "python",
   "nbconvert_exporter": "python",
   "pygments_lexer": "ipython3",
   "version": "3.7.6"
  }
 },
 "nbformat": 4,
 "nbformat_minor": 4
}
